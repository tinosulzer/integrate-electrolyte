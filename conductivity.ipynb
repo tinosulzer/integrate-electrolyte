{
 "cells": [
  {
   "cell_type": "markdown",
   "id": "361efd81",
   "metadata": {},
   "source": [
    "Modeling the effect of electrolyte properties on discharge capacity and degradation (cycle life)"
   ]
  },
  {
   "cell_type": "code",
   "execution_count": 1,
   "id": "6ac90f03",
   "metadata": {},
   "outputs": [],
   "source": [
    "import pybamm\n",
    "import numpy as np\n",
    "import matplotlib.pyplot as plt"
   ]
  },
  {
   "cell_type": "markdown",
   "id": "d71bc15f",
   "metadata": {},
   "source": [
    "Set up model with SEI growth"
   ]
  },
  {
   "cell_type": "code",
   "execution_count": 2,
   "id": "bcb00b38",
   "metadata": {},
   "outputs": [],
   "source": [
    "parameter_values = pybamm.ParameterValues(\"Chen2020\")\n",
    "# input parameter sigma_e is in mS/cm (10 mS/cm = 1 S/m)\n",
    "parameter_values[\"Electrolyte conductivity [S.m-1]\"] = pybamm.InputParameter(\"sigma_e\") / 10\n",
    "parameter_values[\"Outer SEI solvent diffusivity [m2.s-1]\"] = 2e-21\n",
    "\n",
    "model = pybamm.lithium_ion.DFN({\n",
    "    \"SEI\": \"solvent-diffusion limited\"\n",
    "})\n",
    "\n",
    "sigmas = np.arange(5,26,2)"
   ]
  },
  {
   "cell_type": "markdown",
   "id": "0adb9a7f",
   "metadata": {},
   "source": [
    "### Capacity during 4C discharge"
   ]
  },
  {
   "cell_type": "code",
   "execution_count": 3,
   "id": "3c75e8c3",
   "metadata": {},
   "outputs": [],
   "source": [
    "discharge = pybamm.Experiment([\n",
    "    \"Discharge at 2C until 2.5V\",\n",
    "])\n",
    "\n",
    "sim = pybamm.Simulation(model, experiment=discharge, parameter_values=parameter_values)\n",
    "sols = []\n",
    "for sigma_e in sigmas:\n",
    "    sol = sim.solve(inputs={\"sigma_e\": sigma_e}, initial_soc=1)\n",
    "    sols.append(sol)"
   ]
  },
  {
   "cell_type": "markdown",
   "id": "c86ec2ff",
   "metadata": {},
   "source": [
    "Plot every 3rd solution"
   ]
  },
  {
   "cell_type": "code",
   "execution_count": 4,
   "id": "fcb6a3f1",
   "metadata": {},
   "outputs": [
    {
     "data": {
      "application/vnd.jupyter.widget-view+json": {
       "model_id": "6994773f19be4080a5bd67bd88c08933",
       "version_major": 2,
       "version_minor": 0
      },
      "text/plain": [
       "interactive(children=(FloatSlider(value=0.0, description='t', max=1731.3027244368493, step=17.31302724436849),…"
      ]
     },
     "metadata": {},
     "output_type": "display_data"
    },
    {
     "data": {
      "text/plain": [
       "<pybamm.plotting.quick_plot.QuickPlot at 0x7fdb7cc32220>"
      ]
     },
     "execution_count": 4,
     "metadata": {},
     "output_type": "execute_result"
    }
   ],
   "source": [
    "pybamm.dynamic_plot(sols[::3])"
   ]
  },
  {
   "cell_type": "code",
   "execution_count": 5,
   "id": "b8927cc7",
   "metadata": {},
   "outputs": [
    {
     "data": {
      "image/png": "[encoded data removed]",
      "text/plain": [
       "<Figure size 432x288 with 1 Axes>"
      ]
     },
     "metadata": {
      "needs_background": "light"
     },
     "output_type": "display_data"
    }
   ],
   "source": [
    "caps = [sol[\"Discharge capacity [A.h]\"].data[-1] for sol in sols]\n",
    "fig, ax = plt.subplots()\n",
    "ax.plot(sigmas, caps)\n",
    "ax.set_xlabel(\"Conductivity [mS/cm]\")\n",
    "ax.set_ylabel(\"2C discharge capacity [A.h]\")\n",
    "ax.grid(alpha=0.5)"
   ]
  },
  {
   "cell_type": "markdown",
   "id": "8baab07b",
   "metadata": {},
   "source": [
    "### Degradation during CCCV charge"
   ]
  },
  {
   "cell_type": "code",
   "execution_count": 6,
   "id": "f1f8ddb3",
   "metadata": {},
   "outputs": [
    {
     "name": "stderr",
     "output_type": "stream",
     "text": [
      "The linesearch algorithm failed with too small a step.\n",
      "The linesearch algorithm failed with too small a step.\n",
      "The linesearch algorithm failed with too small a step.\n",
      "The linesearch algorithm failed with too small a step.\n",
      "The linesearch algorithm failed with too small a step.\n",
      "The linesearch algorithm failed with too small a step.\n",
      "The linesearch algorithm failed with too small a step.\n",
      "The linesearch algorithm failed with too small a step.\n",
      "The linesearch algorithm failed with too small a step.\n",
      "The linesearch algorithm failed with too small a step.\n",
      "The linesearch algorithm failed with too small a step.\n",
      "The linesearch algorithm failed with too small a step.\n",
      "The linesearch algorithm failed with too small a step.\n",
      "The linesearch algorithm failed with too small a step.\n",
      "The linesearch algorithm failed with too small a step.\n",
      "The linesearch algorithm failed with too small a step.\n",
      "The linesearch algorithm failed with too small a step.\n",
      "The linesearch algorithm failed with too small a step.\n",
      "The linesearch algorithm failed with too small a step.\n",
      "The linesearch algorithm failed with too small a step.\n",
      "The linesearch algorithm failed with too small a step.\n",
      "The linesearch algorithm failed with too small a step.\n"
     ]
    }
   ],
   "source": [
    "charge = pybamm.Experiment([\n",
    "    \"Charge at 2C until 4.2V\",\n",
    "    \"Hold at 4.2V until C/50\",\n",
    "])\n",
    "\n",
    "sim = pybamm.Simulation(model, experiment=charge, parameter_values=parameter_values)\n",
    "sols = []\n",
    "for sigma_e in sigmas:\n",
    "    sol = sim.solve(inputs={\"sigma_e\": sigma_e}, initial_soc=0)\n",
    "    sols.append(sol)"
   ]
  },
  {
   "cell_type": "markdown",
   "id": "36456891",
   "metadata": {},
   "source": [
    "Plot every 3rd solution"
   ]
  },
  {
   "cell_type": "code",
   "execution_count": 7,
   "id": "a0af865e",
   "metadata": {},
   "outputs": [
    {
     "data": {
      "application/vnd.jupyter.widget-view+json": {
       "model_id": "1dd17423dbc1438f9afb84858638a659",
       "version_major": 2,
       "version_minor": 0
      },
      "text/plain": [
       "interactive(children=(FloatSlider(value=0.0, description='t', max=1.8126148382441056, step=0.01812614838244105…"
      ]
     },
     "metadata": {},
     "output_type": "display_data"
    },
    {
     "data": {
      "text/plain": [
       "<pybamm.plotting.quick_plot.QuickPlot at 0x7fdb68f7abe0>"
      ]
     },
     "execution_count": 7,
     "metadata": {},
     "output_type": "execute_result"
    }
   ],
   "source": [
    "pybamm.dynamic_plot(sols[::3], \n",
    "                    [\"Terminal voltage [V]\", \n",
    "                     \"Loss of lithium inventory [%]\"])"
   ]
  },
  {
   "cell_type": "code",
   "execution_count": 8,
   "id": "80541076",
   "metadata": {},
   "outputs": [
    {
     "data": {
      "image/png": "[encoded data removed]",
      "text/plain": [
       "<Figure size 432x288 with 1 Axes>"
      ]
     },
     "metadata": {
      "needs_background": "light"
     },
     "output_type": "display_data"
    }
   ],
   "source": [
    "LLIs = [sol[\"Loss of lithium inventory [%]\"].data[-1] for sol in sols]\n",
    "fig, ax = plt.subplots()\n",
    "ax.plot(sigmas, LLIs)\n",
    "ax.set_xlabel(\"Conductivity [mS/cm]\")\n",
    "ax.set_ylabel(\"Loss of lithium inventory in first cycle\")\n",
    "ax.grid(alpha=0.5)"
   ]
  },
  {
   "cell_type": "markdown",
   "id": "ab3f478c",
   "metadata": {},
   "source": [
    "### Calculate capacity and extrapolate cycle life"
   ]
  },
  {
   "cell_type": "code",
   "execution_count": 9,
   "id": "7d8fba5c",
   "metadata": {},
   "outputs": [],
   "source": [
    "esoh_model = pybamm.lithium_ion.ElectrodeSOH()\n",
    "esoh_sim = pybamm.Simulation(esoh_model, parameter_values=parameter_values)\n",
    "\n",
    "param = pybamm.LithiumIonParameters()\n",
    "\n",
    "Vmin = parameter_values[\"Lower voltage cut-off [V]\"]\n",
    "Vmax = parameter_values[\"Upper voltage cut-off [V]\"]\n",
    "Cn = parameter_values.evaluate(param.C_n_init)\n",
    "Cp = parameter_values.evaluate(param.C_p_init)\n",
    "n_Li = parameter_values.evaluate(param.n_Li_particles_init)\n",
    "\n",
    "esoh_sol = esoh_sim.solve([0], inputs={\"V_min\": Vmin, \"V_max\": Vmax, \"C_n\": Cn, \"C_p\": Cp, \"n_Li\": n_Li})\n",
    "C_init = esoh_sol[\"C\"].data[0]"
   ]
  },
  {
   "cell_type": "code",
   "execution_count": 10,
   "id": "a4665d14",
   "metadata": {},
   "outputs": [
    {
     "data": {
      "image/png": "[encoded data removed]",
      "text/plain": [
       "<Figure size 432x288 with 1 Axes>"
      ]
     },
     "metadata": {
      "needs_background": "light"
     },
     "output_type": "display_data"
    }
   ],
   "source": [
    "C_loss = [C_init - sol.summary_variables[\"C\"][-1] for sol in sols]\n",
    "fig, ax = plt.subplots()\n",
    "ax.plot(sigmas, C_loss)\n",
    "ax.set_xlabel(\"Conductivity [mS/cm]\")\n",
    "ax.set_ylabel(\"Capacity lost in first cycle [Ah]\")\n",
    "ax.grid(alpha=0.5)"
   ]
  },
  {
   "cell_type": "code",
   "execution_count": 11,
   "id": "f86aaf1f",
   "metadata": {},
   "outputs": [
    {
     "data": {
      "image/png": "[encoded data removed]",
      "text/plain": [
       "<Figure size 432x288 with 1 Axes>"
      ]
     },
     "metadata": {
      "needs_background": "light"
     },
     "output_type": "display_data"
    }
   ],
   "source": [
    "# End of life when 20% of initial capacity is lost\n",
    "cycle_life = 0.2*C_init / C_loss\n",
    "fig, ax = plt.subplots()\n",
    "ax.plot(sigmas, cycle_life)\n",
    "ax.set_xlabel(\"Conductivity [mS/cm]\")\n",
    "ax.set_ylabel(\"Cycles to 80% capacity (extrapolated)\")\n",
    "ax.grid(alpha=0.5)"
   ]
  },
  {
   "cell_type": "code",
   "execution_count": 12,
   "id": "33ada703",
   "metadata": {},
   "outputs": [
    {
     "data": {
      "text/html": [
       "<div>\n",
       "<style scoped>\n",
       "    .dataframe tbody tr th:only-of-type {\n",
       "        vertical-align: middle;\n",
       "    }\n",
       "\n",
       "    .dataframe tbody tr th {\n",
       "        vertical-align: top;\n",
       "    }\n",
       "\n",
       "    .dataframe thead th {\n",
       "        text-align: right;\n",
       "    }\n",
       "</style>\n",
       "<table border=\"1\" class=\"dataframe\">\n",
       "  <thead>\n",
       "    <tr style=\"text-align: right;\">\n",
       "      <th></th>\n",
       "      <th>conductivity [mS/cm]</th>\n",
       "      <th>first_cycle_loss</th>\n",
       "      <th>cycle_life_80</th>\n",
       "    </tr>\n",
       "  </thead>\n",
       "  <tbody>\n",
       "    <tr>\n",
       "      <th>0</th>\n",
       "      <td>5</td>\n",
       "      <td>0.001087</td>\n",
       "      <td>948.126714</td>\n",
       "    </tr>\n",
       "    <tr>\n",
       "      <th>1</th>\n",
       "      <td>7</td>\n",
       "      <td>0.001062</td>\n",
       "      <td>970.750260</td>\n",
       "    </tr>\n",
       "    <tr>\n",
       "      <th>2</th>\n",
       "      <td>9</td>\n",
       "      <td>0.001048</td>\n",
       "      <td>983.749569</td>\n",
       "    </tr>\n",
       "    <tr>\n",
       "      <th>3</th>\n",
       "      <td>11</td>\n",
       "      <td>0.001039</td>\n",
       "      <td>992.123111</td>\n",
       "    </tr>\n",
       "    <tr>\n",
       "      <th>4</th>\n",
       "      <td>13</td>\n",
       "      <td>0.001033</td>\n",
       "      <td>997.971457</td>\n",
       "    </tr>\n",
       "    <tr>\n",
       "      <th>5</th>\n",
       "      <td>15</td>\n",
       "      <td>0.001028</td>\n",
       "      <td>1002.325327</td>\n",
       "    </tr>\n",
       "    <tr>\n",
       "      <th>6</th>\n",
       "      <td>17</td>\n",
       "      <td>0.001025</td>\n",
       "      <td>1005.628710</td>\n",
       "    </tr>\n",
       "    <tr>\n",
       "      <th>7</th>\n",
       "      <td>19</td>\n",
       "      <td>0.001022</td>\n",
       "      <td>1008.283295</td>\n",
       "    </tr>\n",
       "    <tr>\n",
       "      <th>8</th>\n",
       "      <td>21</td>\n",
       "      <td>0.001020</td>\n",
       "      <td>1010.436696</td>\n",
       "    </tr>\n",
       "    <tr>\n",
       "      <th>9</th>\n",
       "      <td>23</td>\n",
       "      <td>0.001018</td>\n",
       "      <td>1012.190945</td>\n",
       "    </tr>\n",
       "    <tr>\n",
       "      <th>10</th>\n",
       "      <td>25</td>\n",
       "      <td>0.001017</td>\n",
       "      <td>1013.706962</td>\n",
       "    </tr>\n",
       "  </tbody>\n",
       "</table>\n",
       "</div>"
      ],
      "text/plain": [
       "    conductivity [mS/cm]  first_cycle_loss  cycle_life_80\n",
       "0                      5          0.001087     948.126714\n",
       "1                      7          0.001062     970.750260\n",
       "2                      9          0.001048     983.749569\n",
       "3                     11          0.001039     992.123111\n",
       "4                     13          0.001033     997.971457\n",
       "5                     15          0.001028    1002.325327\n",
       "6                     17          0.001025    1005.628710\n",
       "7                     19          0.001022    1008.283295\n",
       "8                     21          0.001020    1010.436696\n",
       "9                     23          0.001018    1012.190945\n",
       "10                    25          0.001017    1013.706962"
      ]
     },
     "execution_count": 12,
     "metadata": {},
     "output_type": "execute_result"
    }
   ],
   "source": [
    "import pandas as pd\n",
    "df = pd.DataFrame({\n",
    "    \"conductivity_mS_cm\": sigmas,\n",
    "    \"first_cycle_loss_Ah\": C_loss,\n",
    "    \"cycle_life_80\": cycle_life,\n",
    "})\n",
    "df"
   ]
  },
  {
   "cell_type": "code",
   "execution_count": null,
   "id": "f99dd70f",
   "metadata": {},
   "outputs": [],
   "source": []
  }
 ],
 "metadata": {
  "kernelspec": {
   "display_name": "Python 3 (ipykernel)",
   "language": "python",
   "name": "python3"
  },
  "language_info": {
   "codemirror_mode": {
    "name": "ipython",
    "version": 3
   },
   "file_extension": ".py",
   "mimetype": "text/x-python",
   "name": "python",
   "nbconvert_exporter": "python",
   "pygments_lexer": "ipython3",
   "version": "3.8.12"
  },
  "toc": {
   "base_numbering": 1,
   "nav_menu": {},
   "number_sections": true,
   "sideBar": true,
   "skip_h1_title": false,
   "title_cell": "Table of Contents",
   "title_sidebar": "Contents",
   "toc_cell": false,
   "toc_position": {},
   "toc_section_display": true,
   "toc_window_display": true
  }
 },
 "nbformat": 4,
 "nbformat_minor": 5
}
